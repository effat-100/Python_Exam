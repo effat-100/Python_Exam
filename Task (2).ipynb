{
  "nbformat": 4,
  "nbformat_minor": 0,
  "metadata": {
    "colab": {
      "name": "Task.ipynb",
      "provenance": []
    },
    "kernelspec": {
      "name": "python3",
      "display_name": "Python 3"
    },
    "language_info": {
      "name": "python"
    }
  },
  "cells": [
    {
      "cell_type": "code",
      "execution_count": 115,
      "metadata": {
        "colab": {
          "base_uri": "https://localhost:8080/"
        },
        "id": "M8uzsfkprHOS",
        "outputId": "e29282e6-1b2b-499a-efa3-a4b3323e6ee1"
      },
      "outputs": [
        {
          "output_type": "stream",
          "name": "stdout",
          "text": [
            " the flavoure type is : ['black forest', 'Vanilla cake', 'Red Velvet', 'Lemon Sponge Cake', 'Chocolate Cake']\n",
            "before discount: [780, 600, 800, 650, 660]\n"
          ]
        }
      ],
      "source": [
        "Cake_name=[\"black forest\", \"Vanilla cake\", \"Red Velvet\", \"Lemon Sponge Cake\", \"Chocolate Cake\"]\n",
        "print(\" the flavoure type is :\", Cake_name)\n",
        "cake_price=[780, 600, 800,650, 660]\n",
        "print(\"before discount:\",cake_price)\n",
        "#Sum=sum(cake_price)\n",
        "#print(Sum)\n",
        "\n"
      ]
    },
    {
      "cell_type": "code",
      "source": [
        "utility_bill=[3,3,3,3,3]\n",
        "percent=100\n",
        "utility_cost=[]\n",
        "for i in range(len(utility_bill)):\n",
        "  utility_cost.append(utility_bill[i]/percent)\n",
        "print(utility_cost)"
      ],
      "metadata": {
        "colab": {
          "base_uri": "https://localhost:8080/"
        },
        "id": "0P8WNeoZ0htZ",
        "outputId": "467b4c0e-dcd2-4cb2-e5b4-99a2c26f7d90"
      },
      "execution_count": 121,
      "outputs": [
        {
          "output_type": "stream",
          "name": "stdout",
          "text": [
            "[0.03, 0.03, 0.03, 0.03, 0.03]\n"
          ]
        }
      ]
    },
    {
      "cell_type": "code",
      "source": [
        "\n",
        "cakematerial_price=[180, 150, 220,165, 170]\n",
        "t_cost=[150,150,50,150,150]\n",
        "staff_cost=[60,60,60,60,60]\n",
        "space_cost=[50,50,50,50,50]\n",
        "total=[]\n",
        "final_total=[]\n",
        "fully_cost=[]\n",
        "for i in range(len(cakematerial_price)):\n",
        "  total.append(cakematerial_price[i] + t_cost[i] )\n",
        "print(\"cost without utility : \" ,total ) \n",
        "\n",
        "for i in range(len(total)):\n",
        "  final_total.append(total[i] * utility_cost[i] )\n",
        "print(\"cost with utility : \" ,final_total ) \n",
        "\n",
        "for i in range(len(final_total)):\n",
        "    fully_cost.append(final_total[i] + staff_cost[i] + space_cost[i])\n",
        "\n",
        "print(\"total inventory cost :\" , fully_cost)    \n",
        "\n"
      ],
      "metadata": {
        "colab": {
          "base_uri": "https://localhost:8080/"
        },
        "id": "_nd8mlMtz8Hr",
        "outputId": "faafb6bf-e24c-40ac-ea3c-9cceb8598bc7"
      },
      "execution_count": 120,
      "outputs": [
        {
          "output_type": "stream",
          "name": "stdout",
          "text": [
            "cost without utility :  [330, 300, 270, 315, 320]\n",
            "cost with utility :  [9.9, 9.0, 8.1, 9.45, 9.6]\n",
            "total inventory cost : [119.9, 119.0, 118.1, 119.45, 119.6]\n"
          ]
        }
      ]
    },
    {
      "cell_type": "code",
      "source": [
        "discount=[5,5,5,7,7]\n",
        "percent=100\n",
        "new_list=[]\n",
        "for i in range(len(discount)):\n",
        "  new_list.append(discount[i]/percent)\n",
        "print(new_list)"
      ],
      "metadata": {
        "colab": {
          "base_uri": "https://localhost:8080/"
        },
        "id": "nz_Q4aCYus7i",
        "outputId": "df53e9b7-2aac-4aaf-9b5a-8d844af75ab7"
      },
      "execution_count": 104,
      "outputs": [
        {
          "output_type": "stream",
          "name": "stdout",
          "text": [
            "[0.05, 0.05, 0.05, 0.07, 0.07]\n"
          ]
        }
      ]
    },
    {
      "cell_type": "code",
      "source": [
        "\n",
        "cake_price=[780, 600, 800,650, 660]\n",
        "\n",
        "pound=[5,7,5,9,10]\n",
        "result=[]\n",
        "discount_price=[]\n",
        "pound_price=[]\n",
        "sum=0\n",
        "for i in range(0, len(cake_price)):\n",
        "  result.append(cake_price[i] * new_list[i])\n",
        "\n",
        "print(\"discount price :\",result)  \n",
        "for i in range(0, len(cake_price)):\n",
        "  discount_price.append(cake_price[i]-result[i])\n",
        "\n",
        "print(\"after discount new cake price :\",discount_price)  \n",
        "#price with pound \n",
        "for i in range(0, len(discount_price)):\n",
        "  pound_price.append(discount_price[i] * pound[i])\n",
        "print(\" price with selling pound :\", pound_price)  \n",
        "\n",
        "\n"
      ],
      "metadata": {
        "colab": {
          "base_uri": "https://localhost:8080/"
        },
        "id": "dNaBp-eck_FT",
        "outputId": "d12744aa-ed48-49bf-9f55-43bbfbaff35c"
      },
      "execution_count": 108,
      "outputs": [
        {
          "output_type": "stream",
          "name": "stdout",
          "text": [
            "discount price : [39.0, 30.0, 40.0, 45.50000000000001, 46.2]\n",
            "after discount new cake price : [741.0, 570.0, 760.0, 604.5, 613.8]\n",
            " price with selling pound : [3705.0, 3990.0, 3800.0, 5440.5, 6138.0]\n"
          ]
        }
      ]
    },
    {
      "cell_type": "code",
      "source": [
        "cost = int(input(\"enter the enventory cost \"))\n",
        "price =  int(input(\"enter the selling price \"))\n",
        "if(cost > price):\n",
        "    amount = cost-price\n",
        "    loss_percent=(amount/cost)*100\n",
        "    print(\"Total Loss Amount = \", amount)\n",
        "    print(\"Total Loss in percentage = \",loss_percent)\n",
        "elif(price > cost):\n",
        "    amount = price-cost\n",
        "    profit_percent=(amount/cost)*100\n",
        "    print(\"Total Profit = {0}\".format(amount))\n",
        "    print(\"Total profit in percentage = {0}\".format(profit_percent))\n",
        "else:\n",
        "    print(\"equal\")\n"
      ],
      "metadata": {
        "colab": {
          "base_uri": "https://localhost:8080/"
        },
        "id": "jRIirjtjwJbx",
        "outputId": "807f380f-c0ca-4796-8e76-6fc07c82c38c"
      },
      "execution_count": 110,
      "outputs": [
        {
          "output_type": "stream",
          "name": "stdout",
          "text": [
            "enter the enventory cost 440\n",
            "enter the selling price 3705\n",
            "Total Profit = 3265\n",
            "Total profit in percentage = 742.0454545454546\n"
          ]
        }
      ]
    }
  ]
}