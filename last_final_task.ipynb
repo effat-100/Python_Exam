{
  "nbformat": 4,
  "nbformat_minor": 0,
  "metadata": {
    "colab": {
      "name": "last_final_task.ipynb",
      "provenance": []
    },
    "kernelspec": {
      "name": "python3",
      "display_name": "Python 3"
    },
    "language_info": {
      "name": "python"
    }
  },
  "cells": [
    {
      "cell_type": "code",
      "source": [
        "from datetime import datetime\n",
        "start_time = datetime.now()"
      ],
      "metadata": {
        "id": "TryaOJGavfdb"
      },
      "execution_count": 16,
      "outputs": []
    },
    {
      "cell_type": "code",
      "source": [
        "Cake_name=[\"black forest\", \"Vanilla cake\", \"Red Velvet\", \"Lemon Sponge Cake\", \"Chocolate Cake\"]\n",
        "print(\" the flavoure type is :\", Cake_name)\n",
        "cake_price=[780, 600, 800,650, 660]\n",
        "print(\"before discount:\",cake_price)\n",
        "#Sum=sum(cake_price)\n",
        "#print(Sum)\n"
      ],
      "metadata": {
        "colab": {
          "base_uri": "https://localhost:8080/"
        },
        "id": "ku7ObVcpvqAw",
        "outputId": "e965f31f-49a3-4a90-8a85-d0c582de5568"
      },
      "execution_count": 17,
      "outputs": [
        {
          "output_type": "stream",
          "name": "stdout",
          "text": [
            " the flavoure type is : ['black forest', 'Vanilla cake', 'Red Velvet', 'Lemon Sponge Cake', 'Chocolate Cake']\n",
            "before discount: [780, 600, 800, 650, 660]\n"
          ]
        }
      ]
    },
    {
      "cell_type": "code",
      "source": [
        "\n",
        "utility_bill=[3,3,3,3,3]\n",
        "percent=100\n",
        "utility_cost=[]\n",
        "for i in range(len(utility_bill)):\n",
        "  utility_cost.append(utility_bill[i]/percent)\n",
        "print(utility_cost)\n",
        "cakematerial_price=[180, 150, 220,165, 170]\n",
        "t_cost=[150,150,50,150,150]\n",
        "staff_cost=[60,60,60,60,60]\n",
        "space_cost=[50,50,50,50,50]\n",
        "total=[]\n",
        "final_total=[]\n",
        "fully_cost=[]\n",
        "for i in range(len(cakematerial_price)):\n",
        "  total.append(cakematerial_price[i] + t_cost[i] )\n",
        "  final_total.append(total[i] * utility_cost[i] )\n",
        "  fully_cost.append(final_total[i] + staff_cost[i] + space_cost[i])\n",
        "\n",
        "print(\"total  cost : \" , fully_cost, final_total, total) \n",
        "#Sum= sum(fully_cost)\n",
        "#print(Sum)\n",
        "\n"
      ],
      "metadata": {
        "colab": {
          "base_uri": "https://localhost:8080/"
        },
        "id": "_nd8mlMtz8Hr",
        "outputId": "cbce29e4-21af-4205-d5b4-09844dca1218"
      },
      "execution_count": 18,
      "outputs": [
        {
          "output_type": "stream",
          "name": "stdout",
          "text": [
            "[0.03, 0.03, 0.03, 0.03, 0.03]\n",
            "total  cost :  [119.9, 119.0, 118.1, 119.45, 119.6] [9.9, 9.0, 8.1, 9.45, 9.6] [330, 300, 270, 315, 320]\n"
          ]
        }
      ]
    },
    {
      "cell_type": "code",
      "source": [
        "\n",
        "discount=[5,5,5,7,7]\n",
        "percent=100\n",
        "new_list=[]\n",
        "for i in range(len(discount)):\n",
        "  new_list.append(discount[i]/percent)\n",
        "print(new_list)\n",
        "cake_price=list(map(int,input(\"Enter the all cake prices: \").split()))\n",
        "\n",
        "pound=list(map(int,input(\"Enter the selling pound: \").split()))\n",
        "result=[]\n",
        "discount_price=[]\n",
        "pound_price=[]\n",
        "sum=0\n",
        "for i in range(0, len(cake_price)):\n",
        "  result.append(cake_price[i] * new_list[i])\n",
        "  discount_price.append(cake_price[i]-result[i])\n",
        "  pound_price.append(discount_price[i] * pound[i])\n",
        "\n",
        "print(\" price with selling pound :\", pound_price, discount_price, result )  \n",
        "\n",
        "\n"
      ],
      "metadata": {
        "colab": {
          "base_uri": "https://localhost:8080/"
        },
        "id": "dNaBp-eck_FT",
        "outputId": "ed5c9990-9d1b-4032-c20a-2d1aa396983a"
      },
      "execution_count": 19,
      "outputs": [
        {
          "output_type": "stream",
          "name": "stdout",
          "text": [
            "[0.05, 0.05, 0.05, 0.07, 0.07]\n",
            "Enter the all cake prices: 780 800 600 650 700\n",
            "Enter the selling pound: 5 7 9 10 7 9\n",
            " price with selling pound : [3705.0, 5320.0, 5130.0, 6045.0, 4557.0] [741.0, 760.0, 570.0, 604.5, 651.0] [39.0, 40.0, 30.0, 45.50000000000001, 49.00000000000001]\n"
          ]
        }
      ]
    },
    {
      "cell_type": "code",
      "source": [
        "cost = int(input(\"enter the enventory cost \"))\n",
        "price =  int(input(\"enter the selling price \"))\n",
        "if(cost > price):\n",
        "    amount = cost-price\n",
        "    loss_percent=(amount/cost)*100\n",
        "    print(\"Total Loss Amount = \", amount)\n",
        "    print(\"Total Loss in percentage = \",loss_percent)\n",
        "elif(price > cost):\n",
        "    amount = price-cost\n",
        "    profit_percent=(amount/cost)*100\n",
        "    print(\"Total Profit = {0}\".format(amount))\n",
        "    print(\"Total profit in percentage = {0}\".format(profit_percent))\n",
        "else:\n",
        "    print(\"equal\")\n"
      ],
      "metadata": {
        "colab": {
          "base_uri": "https://localhost:8080/"
        },
        "id": "jRIirjtjwJbx",
        "outputId": "d1216a6a-52c7-4520-8f2b-a2e7ee4a53a2"
      },
      "execution_count": 20,
      "outputs": [
        {
          "output_type": "stream",
          "name": "stdout",
          "text": [
            "enter the enventory cost 440 \n",
            "enter the selling price 550\n",
            "Total Profit = 110\n",
            "Total profit in percentage = 25.0\n"
          ]
        }
      ]
    },
    {
      "cell_type": "code",
      "source": [
        "end_time = datetime.now()\n",
        "print('Duration: {}'.format(end_time - start_time))"
      ],
      "metadata": {
        "colab": {
          "base_uri": "https://localhost:8080/"
        },
        "id": "VfF4gI3JDhUW",
        "outputId": "2bd53f37-0f22-4ffa-fe9b-b8ce641d9c44"
      },
      "execution_count": 21,
      "outputs": [
        {
          "output_type": "stream",
          "name": "stdout",
          "text": [
            "Duration: 0:00:46.181732\n"
          ]
        }
      ]
    }
  ]
}